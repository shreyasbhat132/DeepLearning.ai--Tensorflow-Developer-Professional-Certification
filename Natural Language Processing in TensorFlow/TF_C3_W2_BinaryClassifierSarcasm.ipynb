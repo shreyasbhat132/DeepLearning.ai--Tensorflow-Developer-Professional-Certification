{
  "nbformat": 4,
  "nbformat_minor": 0,
  "metadata": {
    "colab": {
      "provenance": []
    },
    "kernelspec": {
      "name": "python3",
      "display_name": "Python 3"
    },
    "language_info": {
      "name": "python"
    }
  },
  "cells": [
    {
      "cell_type": "code",
      "execution_count": 1,
      "metadata": {
        "colab": {
          "base_uri": "https://localhost:8080/"
        },
        "id": "41EAh0k8RIvI",
        "outputId": "50f41360-ccef-4cd3-8f79-4390fe5e5a8a"
      },
      "outputs": [
        {
          "output_type": "stream",
          "name": "stdout",
          "text": [
            "--2023-08-16 21:44:35--  https://storage.googleapis.com/tensorflow-1-public/course3/sarcasm.json\n",
            "Resolving storage.googleapis.com (storage.googleapis.com)... 173.194.194.128, 173.194.195.128, 173.194.196.128, ...\n",
            "Connecting to storage.googleapis.com (storage.googleapis.com)|173.194.194.128|:443... connected.\n",
            "HTTP request sent, awaiting response... 200 OK\n",
            "Length: 5643545 (5.4M) [application/json]\n",
            "Saving to: ‘sarcasm.json’\n",
            "\n",
            "\rsarcasm.json          0%[                    ]       0  --.-KB/s               \rsarcasm.json        100%[===================>]   5.38M  --.-KB/s    in 0.04s   \n",
            "\n",
            "2023-08-16 21:44:35 (145 MB/s) - ‘sarcasm.json’ saved [5643545/5643545]\n",
            "\n"
          ]
        }
      ],
      "source": [
        "# Download the dataset\n",
        "!wget https://storage.googleapis.com/tensorflow-1-public/course3/sarcasm.json"
      ]
    },
    {
      "cell_type": "code",
      "source": [
        "import json\n",
        "\n",
        "# Load the JSON file\n",
        "with open(\"./sarcasm.json\", 'r') as f:\n",
        "    datastore = json.load(f)\n",
        "\n",
        "# Initialize the lists\n",
        "sentences = []\n",
        "labels = []\n",
        "\n",
        "# Collect sentences and labels into the lists\n",
        "for item in datastore:\n",
        "    sentences.append(item['headline'])\n",
        "    labels.append(item['is_sarcastic'])"
      ],
      "metadata": {
        "id": "oWVBnqhPTxhw"
      },
      "execution_count": 2,
      "outputs": []
    },
    {
      "cell_type": "code",
      "source": [
        "# Number of examples to use for training\n",
        "training_size = 20000\n",
        "\n",
        "# Vocabulary size of the tokenizer\n",
        "vocab_size = 1000\n",
        "\n",
        "# Maximum length of the padded sequences\n",
        "max_length = 16\n",
        "\n",
        "# Output dimensions of the Embedding layer\n",
        "embedding_dim = 16"
      ],
      "metadata": {
        "id": "UboZGCE7TztE"
      },
      "execution_count": 53,
      "outputs": []
    },
    {
      "cell_type": "code",
      "source": [
        "# Split the sentences\n",
        "training_sentences = sentences[0:training_size]\n",
        "testing_sentences = sentences[training_size:]\n",
        "\n",
        "# Split the labels\n",
        "training_labels = labels[0:training_size]\n",
        "testing_labels = labels[training_size:]"
      ],
      "metadata": {
        "id": "S5fVVpCsT386"
      },
      "execution_count": 54,
      "outputs": []
    },
    {
      "cell_type": "code",
      "source": [
        "import numpy as np\n",
        "from tensorflow.keras.preprocessing.text import Tokenizer\n",
        "from tensorflow.keras.preprocessing.sequence import pad_sequences"
      ],
      "metadata": {
        "id": "LkmMQboTT37H"
      },
      "execution_count": 55,
      "outputs": []
    },
    {
      "cell_type": "code",
      "source": [
        "# Parameters for padding and OOV tokens\n",
        "trunc_type='post'\n",
        "padding_type='post'\n",
        "oov_tok = \"<OOV>\""
      ],
      "metadata": {
        "id": "_lsKUnfUT35R"
      },
      "execution_count": 56,
      "outputs": []
    },
    {
      "cell_type": "code",
      "source": [
        "# Initialize the Tokenizer class\n",
        "tokenizer = Tokenizer(num_words=vocab_size, oov_token=oov_tok)\n",
        "\n",
        "# Generate the word index dictionary\n",
        "tokenizer.fit_on_texts(training_sentences)\n",
        "word_index = tokenizer.word_index\n",
        "\n",
        "# Generate and pad the training sequences\n",
        "training_sequences = tokenizer.texts_to_sequences(training_sentences)\n",
        "training_padded = pad_sequences(training_sequences, maxlen=max_length, padding=padding_type, truncating=trunc_type)\n",
        "\n",
        "# Generate and pad the testing sequences\n",
        "testing_sequences = tokenizer.texts_to_sequences(testing_sentences)\n",
        "testing_padded = pad_sequences(testing_sequences, maxlen=max_length, padding=padding_type, truncating=trunc_type)\n",
        "\n",
        "# Convert the labels lists into numpy arrays\n",
        "training_labels = np.array(training_labels)\n",
        "testing_labels = np.array(testing_labels)"
      ],
      "metadata": {
        "id": "eKzGCst5T329"
      },
      "execution_count": 57,
      "outputs": []
    },
    {
      "cell_type": "code",
      "source": [
        "import tensorflow as tf"
      ],
      "metadata": {
        "id": "k7owhXIcT3rf"
      },
      "execution_count": 58,
      "outputs": []
    },
    {
      "cell_type": "code",
      "source": [
        "# Initialize a GlobalAveragePooling1D (GAP1D) layer\n",
        "gap1d_layer = tf.keras.layers.GlobalAveragePooling1D()\n",
        "\n",
        "# Define sample array\n",
        "sample_array = np.array([[[10,2],[1,3],[1,1]]])\n",
        "\n",
        "# Print shape and contents of sample array\n",
        "print(f'shape of sample_array = {sample_array.shape}')\n",
        "print(f'sample array: {sample_array}')"
      ],
      "metadata": {
        "colab": {
          "base_uri": "https://localhost:8080/"
        },
        "id": "7ULP58ISUIXd",
        "outputId": "78c41f47-1351-4840-ba08-19dc712accf9"
      },
      "execution_count": 59,
      "outputs": [
        {
          "output_type": "stream",
          "name": "stdout",
          "text": [
            "shape of sample_array = (1, 3, 2)\n",
            "sample array: [[[10  2]\n",
            "  [ 1  3]\n",
            "  [ 1  1]]]\n"
          ]
        }
      ]
    },
    {
      "cell_type": "code",
      "source": [
        "# Pass the sample array to the GAP1D layer\n",
        "output = gap1d_layer(sample_array)\n",
        "\n",
        "# Print shape and contents of the GAP1D output array\n",
        "print(f'output shape of gap1d_layer: {output.shape}')\n",
        "print(f'output array of gap1d_layer: {output.numpy()}')"
      ],
      "metadata": {
        "colab": {
          "base_uri": "https://localhost:8080/"
        },
        "id": "1gKK41dBUIVH",
        "outputId": "a42fdaea-be63-4e98-ab97-c75a0f3efb61"
      },
      "execution_count": 60,
      "outputs": [
        {
          "output_type": "stream",
          "name": "stdout",
          "text": [
            "output shape of gap1d_layer: (1, 2)\n",
            "output array of gap1d_layer: [[4 2]]\n"
          ]
        }
      ]
    },
    {
      "cell_type": "code",
      "source": [
        "# Build the model\n",
        "model = tf.keras.Sequential([\n",
        "    tf.keras.layers.Embedding(vocab_size, embedding_dim, input_length=max_length),\n",
        "    tf.keras.layers.GlobalAveragePooling1D(),\n",
        "    tf.keras.layers.Dense(32, activation='relu'),\n",
        "    tf.keras.layers.Dense(1, activation='sigmoid')\n",
        "])\n",
        "\n",
        "# Print the model summary\n",
        "model.summary()"
      ],
      "metadata": {
        "colab": {
          "base_uri": "https://localhost:8080/"
        },
        "id": "TJU-WGkoUISw",
        "outputId": "60cae0a8-834f-4100-bf52-c9281df30199"
      },
      "execution_count": 68,
      "outputs": [
        {
          "output_type": "stream",
          "name": "stdout",
          "text": [
            "Model: \"sequential_6\"\n",
            "_________________________________________________________________\n",
            " Layer (type)                Output Shape              Param #   \n",
            "=================================================================\n",
            " embedding_6 (Embedding)     (None, 16, 16)            16000     \n",
            "                                                                 \n",
            " global_average_pooling1d_11  (None, 16)               0         \n",
            "  (GlobalAveragePooling1D)                                       \n",
            "                                                                 \n",
            " dense_12 (Dense)            (None, 32)                544       \n",
            "                                                                 \n",
            " dense_13 (Dense)            (None, 1)                 33        \n",
            "                                                                 \n",
            "=================================================================\n",
            "Total params: 16,577\n",
            "Trainable params: 16,577\n",
            "Non-trainable params: 0\n",
            "_________________________________________________________________\n"
          ]
        }
      ]
    },
    {
      "cell_type": "code",
      "source": [
        "# Compile the model\n",
        "model.compile(loss='binary_crossentropy',optimizer='adam',metrics=['accuracy'])"
      ],
      "metadata": {
        "id": "pi7OFEPMUIPI"
      },
      "execution_count": 69,
      "outputs": []
    },
    {
      "cell_type": "code",
      "source": [
        "num_epochs = 30\n",
        "\n",
        "# Train the model\n",
        "history = model.fit(training_padded, training_labels, epochs=num_epochs,\n",
        "                    validation_data=(testing_padded, testing_labels), verbose=2)"
      ],
      "metadata": {
        "colab": {
          "base_uri": "https://localhost:8080/"
        },
        "id": "1rsgAct-T3pL",
        "outputId": "d7e93aa4-7190-4b91-f6bb-f74acf86cb15"
      },
      "execution_count": 70,
      "outputs": [
        {
          "output_type": "stream",
          "name": "stdout",
          "text": [
            "Epoch 1/30\n",
            "625/625 - 2s - loss: 0.5069 - accuracy: 0.7417 - val_loss: 0.4080 - val_accuracy: 0.8125 - 2s/epoch - 4ms/step\n",
            "Epoch 2/30\n",
            "625/625 - 1s - loss: 0.3760 - accuracy: 0.8295 - val_loss: 0.4024 - val_accuracy: 0.8098 - 1s/epoch - 2ms/step\n",
            "Epoch 3/30\n",
            "625/625 - 1s - loss: 0.3647 - accuracy: 0.8328 - val_loss: 0.4007 - val_accuracy: 0.8126 - 1s/epoch - 2ms/step\n",
            "Epoch 4/30\n",
            "625/625 - 2s - loss: 0.3595 - accuracy: 0.8356 - val_loss: 0.4047 - val_accuracy: 0.8150 - 2s/epoch - 3ms/step\n",
            "Epoch 5/30\n",
            "625/625 - 2s - loss: 0.3568 - accuracy: 0.8377 - val_loss: 0.4034 - val_accuracy: 0.8140 - 2s/epoch - 3ms/step\n",
            "Epoch 6/30\n",
            "625/625 - 1s - loss: 0.3550 - accuracy: 0.8384 - val_loss: 0.4066 - val_accuracy: 0.8097 - 1s/epoch - 2ms/step\n",
            "Epoch 7/30\n",
            "625/625 - 1s - loss: 0.3531 - accuracy: 0.8393 - val_loss: 0.4072 - val_accuracy: 0.8123 - 1s/epoch - 2ms/step\n",
            "Epoch 8/30\n",
            "625/625 - 1s - loss: 0.3527 - accuracy: 0.8418 - val_loss: 0.4079 - val_accuracy: 0.8141 - 1s/epoch - 2ms/step\n",
            "Epoch 9/30\n",
            "625/625 - 1s - loss: 0.3518 - accuracy: 0.8401 - val_loss: 0.4055 - val_accuracy: 0.8085 - 1s/epoch - 2ms/step\n",
            "Epoch 10/30\n",
            "625/625 - 1s - loss: 0.3511 - accuracy: 0.8413 - val_loss: 0.4077 - val_accuracy: 0.8097 - 1s/epoch - 2ms/step\n",
            "Epoch 11/30\n",
            "625/625 - 1s - loss: 0.3507 - accuracy: 0.8403 - val_loss: 0.4048 - val_accuracy: 0.8113 - 1s/epoch - 2ms/step\n",
            "Epoch 12/30\n",
            "625/625 - 1s - loss: 0.3494 - accuracy: 0.8421 - val_loss: 0.4078 - val_accuracy: 0.8082 - 1s/epoch - 2ms/step\n",
            "Epoch 13/30\n",
            "625/625 - 2s - loss: 0.3490 - accuracy: 0.8408 - val_loss: 0.4067 - val_accuracy: 0.8138 - 2s/epoch - 3ms/step\n",
            "Epoch 14/30\n",
            "625/625 - 2s - loss: 0.3470 - accuracy: 0.8418 - val_loss: 0.4043 - val_accuracy: 0.8144 - 2s/epoch - 3ms/step\n",
            "Epoch 15/30\n",
            "625/625 - 1s - loss: 0.3463 - accuracy: 0.8414 - val_loss: 0.4043 - val_accuracy: 0.8144 - 1s/epoch - 2ms/step\n",
            "Epoch 16/30\n",
            "625/625 - 1s - loss: 0.3451 - accuracy: 0.8435 - val_loss: 0.4017 - val_accuracy: 0.8141 - 1s/epoch - 2ms/step\n",
            "Epoch 17/30\n",
            "625/625 - 1s - loss: 0.3434 - accuracy: 0.8442 - val_loss: 0.4082 - val_accuracy: 0.8070 - 1s/epoch - 2ms/step\n",
            "Epoch 18/30\n",
            "625/625 - 1s - loss: 0.3417 - accuracy: 0.8428 - val_loss: 0.4044 - val_accuracy: 0.8126 - 1s/epoch - 2ms/step\n",
            "Epoch 19/30\n",
            "625/625 - 1s - loss: 0.3393 - accuracy: 0.8454 - val_loss: 0.4034 - val_accuracy: 0.8147 - 1s/epoch - 2ms/step\n",
            "Epoch 20/30\n",
            "625/625 - 1s - loss: 0.3380 - accuracy: 0.8466 - val_loss: 0.4008 - val_accuracy: 0.8162 - 1s/epoch - 2ms/step\n",
            "Epoch 21/30\n",
            "625/625 - 1s - loss: 0.3354 - accuracy: 0.8483 - val_loss: 0.4012 - val_accuracy: 0.8167 - 1s/epoch - 2ms/step\n",
            "Epoch 22/30\n",
            "625/625 - 2s - loss: 0.3334 - accuracy: 0.8497 - val_loss: 0.4036 - val_accuracy: 0.8183 - 2s/epoch - 3ms/step\n",
            "Epoch 23/30\n",
            "625/625 - 2s - loss: 0.3305 - accuracy: 0.8503 - val_loss: 0.4058 - val_accuracy: 0.8149 - 2s/epoch - 2ms/step\n",
            "Epoch 24/30\n",
            "625/625 - 1s - loss: 0.3279 - accuracy: 0.8534 - val_loss: 0.3989 - val_accuracy: 0.8220 - 1s/epoch - 2ms/step\n",
            "Epoch 25/30\n",
            "625/625 - 1s - loss: 0.3261 - accuracy: 0.8549 - val_loss: 0.4044 - val_accuracy: 0.8143 - 1s/epoch - 2ms/step\n",
            "Epoch 26/30\n",
            "625/625 - 1s - loss: 0.3245 - accuracy: 0.8543 - val_loss: 0.3999 - val_accuracy: 0.8182 - 1s/epoch - 2ms/step\n",
            "Epoch 27/30\n",
            "625/625 - 1s - loss: 0.3223 - accuracy: 0.8579 - val_loss: 0.4014 - val_accuracy: 0.8216 - 1s/epoch - 2ms/step\n",
            "Epoch 28/30\n",
            "625/625 - 1s - loss: 0.3202 - accuracy: 0.8586 - val_loss: 0.4009 - val_accuracy: 0.8188 - 1s/epoch - 2ms/step\n",
            "Epoch 29/30\n",
            "625/625 - 1s - loss: 0.3183 - accuracy: 0.8582 - val_loss: 0.4026 - val_accuracy: 0.8216 - 1s/epoch - 2ms/step\n",
            "Epoch 30/30\n",
            "625/625 - 1s - loss: 0.3166 - accuracy: 0.8602 - val_loss: 0.4052 - val_accuracy: 0.8173 - 1s/epoch - 2ms/step\n"
          ]
        }
      ]
    },
    {
      "cell_type": "markdown",
      "source": [
        "**Looking at Loss**: Loss dexcribes how confident the model in in predicting new unseen data (this case, the validation set). Tweaking the hyperparameters will influence the loss and prediction accuracy of the model. We can check for different `vocab_size`, `max_length`, as well as the `embedding_dim` (vector size representing each word)."
      ],
      "metadata": {
        "id": "e5W7rVA5YNtY"
      }
    },
    {
      "cell_type": "code",
      "source": [
        "import matplotlib.pyplot as plt\n",
        "\n",
        "# Plot utility\n",
        "def plot_graphs(history, string):\n",
        "  plt.plot(history.history[string])\n",
        "  plt.plot(history.history['val_'+string])\n",
        "  plt.xlabel(\"Epochs\")\n",
        "  plt.ylabel(string)\n",
        "  plt.legend([string, 'val_'+string])\n",
        "  plt.show()\n",
        "\n",
        "# Plot the accuracy and loss\n",
        "plot_graphs(history, \"accuracy\")\n",
        "plot_graphs(history, \"loss\")"
      ],
      "metadata": {
        "colab": {
          "base_uri": "https://localhost:8080/",
          "height": 881
        },
        "id": "_8KvV_XlT3nF",
        "outputId": "23f5ce23-1f95-466c-c9b6-e708a451111c"
      },
      "execution_count": 71,
      "outputs": [
        {
          "output_type": "display_data",
          "data": {
            "text/plain": [
              "<Figure size 640x480 with 1 Axes>"
            ],
            "image/png": "[encoded data removed]"
          },
          "metadata": {}
        },
        {
          "output_type": "display_data",
          "data": {
            "text/plain": [
              "<Figure size 640x480 with 1 Axes>"
            ],
            "image/png": "[encoded data removed]"
          },
          "metadata": {}
        }
      ]
    },
    {
      "cell_type": "markdown",
      "source": [
        "After trying different hyperparameters, observe how the validation loss plateaus over time, even as the training loss decreases. Although it is better than the case where the validation loss increases (meaning, the model is less confident in predicting new inputs), the accuracy of the model is still questionable.  "
      ],
      "metadata": {
        "id": "IlhwmcvLZQ70"
      }
    },
    {
      "cell_type": "code",
      "source": [
        "# Get the index-word dictionary\n",
        "reverse_word_index = tokenizer.index_word\n",
        "\n",
        "# Get the embedding layer from the model (i.e. first layer)\n",
        "embedding_layer = model.layers[0]\n",
        "\n",
        "# Get the weights of the embedding layer\n",
        "embedding_weights = embedding_layer.get_weights()[0]\n",
        "\n",
        "# Print the shape. Expected is (vocab_size, embedding_dim)\n",
        "print(embedding_weights.shape)"
      ],
      "metadata": {
        "colab": {
          "base_uri": "https://localhost:8080/"
        },
        "id": "lWlHoCJIUj1D",
        "outputId": "6510688d-829e-46fc-de59-1fdc7c4c9ac7"
      },
      "execution_count": 72,
      "outputs": [
        {
          "output_type": "stream",
          "name": "stdout",
          "text": [
            "(1000, 16)\n"
          ]
        }
      ]
    },
    {
      "cell_type": "code",
      "source": [
        "import io"
      ],
      "metadata": {
        "id": "vXhlD0mcUkol"
      },
      "execution_count": 73,
      "outputs": []
    },
    {
      "cell_type": "code",
      "source": [
        "# Open writeable files\n",
        "out_v = io.open('vecs_bcs.tsv', 'w', encoding='utf-8')\n",
        "out_m = io.open('meta_bcs.tsv', 'w', encoding='utf-8')\n",
        "\n",
        "# Initialize the loop. Start counting at `1` because `0` is just for the padding\n",
        "for word_num in range(1, vocab_size):\n",
        "\n",
        "  # Get the word associated at the current index\n",
        "  word_name = reverse_word_index[word_num]\n",
        "\n",
        "  # Get the embedding weights associated with the current index\n",
        "  word_embedding = embedding_weights[word_num]\n",
        "\n",
        "  # Write the word name\n",
        "  out_m.write(word_name + \"\\n\")\n",
        "\n",
        "  # Write the word embedding\n",
        "  out_v.write('\\t'.join([str(x) for x in word_embedding]) + \"\\n\")\n",
        "\n",
        "# Close the files\n",
        "out_v.close()\n",
        "out_m.close()"
      ],
      "metadata": {
        "id": "FPbgc3uoUkaQ"
      },
      "execution_count": 76,
      "outputs": []
    },
    {
      "cell_type": "code",
      "source": [
        "# Import files utilities in Colab\n",
        "try:\n",
        "  from google.colab import files\n",
        "except ImportError:\n",
        "  pass\n",
        "\n",
        "# Download the files\n",
        "else:\n",
        "  files.download('vecs_bcs.tsv')\n",
        "  files.download('meta_bcs.tsv')"
      ],
      "metadata": {
        "colab": {
          "base_uri": "https://localhost:8080/",
          "height": 17
        },
        "id": "yPSjsb0gUkX6",
        "outputId": "8b6c216e-29f7-4cdc-a5fe-8577bb33ea6b"
      },
      "execution_count": 77,
      "outputs": [
        {
          "output_type": "display_data",
          "data": {
            "text/plain": [
              "<IPython.core.display.Javascript object>"
            ],
            "application/javascript": [
              "\n",
              "    async function download(id, filename, size) {\n",
              "      if (!google.colab.kernel.accessAllowed) {\n",
              "        return;\n",
              "      }\n",
              "      const div = document.createElement('div');\n",
              "      const label = document.createElement('label');\n",
              "      label.textContent = `Downloading \"${filename}\": `;\n",
              "      div.appendChild(label);\n",
              "      const progress = document.createElement('progress');\n",
              "      progress.max = size;\n",
              "      div.appendChild(progress);\n",
              "      document.body.appendChild(div);\n",
              "\n",
              "      const buffers = [];\n",
              "      let downloaded = 0;\n",
              "\n",
              "      const channel = await google.colab.kernel.comms.open(id);\n",
              "      // Send a message to notify the kernel that we're ready.\n",
              "      channel.send({})\n",
              "\n",
              "      for await (const message of channel.messages) {\n",
              "        // Send a message to notify the kernel that we're ready.\n",
              "        channel.send({})\n",
              "        if (message.buffers) {\n",
              "          for (const buffer of message.buffers) {\n",
              "            buffers.push(buffer);\n",
              "            downloaded += buffer.byteLength;\n",
              "            progress.value = downloaded;\n",
              "          }\n",
              "        }\n",
              "      }\n",
              "      const blob = new Blob(buffers, {type: 'application/binary'});\n",
              "      const a = document.createElement('a');\n",
              "      a.href = window.URL.createObjectURL(blob);\n",
              "      a.download = filename;\n",
              "      div.appendChild(a);\n",
              "      a.click();\n",
              "      div.remove();\n",
              "    }\n",
              "  "
            ]
          },
          "metadata": {}
        },
        {
          "output_type": "display_data",
          "data": {
            "text/plain": [
              "<IPython.core.display.Javascript object>"
            ],
            "application/javascript": [
              "download(\"download_a02c6eb0-cddc-49de-a7e0-cd2295b9db5c\", \"vecs_bcs.tsv\", 185904)"
            ]
          },
          "metadata": {}
        },
        {
          "output_type": "display_data",
          "data": {
            "text/plain": [
              "<IPython.core.display.Javascript object>"
            ],
            "application/javascript": [
              "\n",
              "    async function download(id, filename, size) {\n",
              "      if (!google.colab.kernel.accessAllowed) {\n",
              "        return;\n",
              "      }\n",
              "      const div = document.createElement('div');\n",
              "      const label = document.createElement('label');\n",
              "      label.textContent = `Downloading \"${filename}\": `;\n",
              "      div.appendChild(label);\n",
              "      const progress = document.createElement('progress');\n",
              "      progress.max = size;\n",
              "      div.appendChild(progress);\n",
              "      document.body.appendChild(div);\n",
              "\n",
              "      const buffers = [];\n",
              "      let downloaded = 0;\n",
              "\n",
              "      const channel = await google.colab.kernel.comms.open(id);\n",
              "      // Send a message to notify the kernel that we're ready.\n",
              "      channel.send({})\n",
              "\n",
              "      for await (const message of channel.messages) {\n",
              "        // Send a message to notify the kernel that we're ready.\n",
              "        channel.send({})\n",
              "        if (message.buffers) {\n",
              "          for (const buffer of message.buffers) {\n",
              "            buffers.push(buffer);\n",
              "            downloaded += buffer.byteLength;\n",
              "            progress.value = downloaded;\n",
              "          }\n",
              "        }\n",
              "      }\n",
              "      const blob = new Blob(buffers, {type: 'application/binary'});\n",
              "      const a = document.createElement('a');\n",
              "      a.href = window.URL.createObjectURL(blob);\n",
              "      a.download = filename;\n",
              "      div.appendChild(a);\n",
              "      a.click();\n",
              "      div.remove();\n",
              "    }\n",
              "  "
            ]
          },
          "metadata": {}
        },
        {
          "output_type": "display_data",
          "data": {
            "text/plain": [
              "<IPython.core.display.Javascript object>"
            ],
            "application/javascript": [
              "download(\"download_032ac132-843b-47e2-9021-6fe592139c92\", \"meta_bcs.tsv\", 6275)"
            ]
          },
          "metadata": {}
        }
      ]
    }
  ]
}